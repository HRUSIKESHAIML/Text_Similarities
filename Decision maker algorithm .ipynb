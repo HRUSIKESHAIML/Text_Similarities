{
 "cells": [
  {
   "cell_type": "code",
   "execution_count": 1,
   "metadata": {},
   "outputs": [],
   "source": [
    "from nltk.tokenize import sent_tokenize, word_tokenize\n",
    "from nltk.corpus import stopwords,wordnet\n",
    "from nltk.stem import WordNetLemmatizer\n",
    "from itertools import product\n",
    "import numpy\n",
    "\n",
    "def find_text_similarity(str1, str2):\n",
    "\n",
    "    ##---------------Defining stopwords for English Language---------------##\n",
    "    stop_words = set(stopwords.words(\"english\"))\n",
    "\n",
    "    ##---------------Initialising Lists---------------##\n",
    "    filtered_sentence1 = []\n",
    "    filtered_sentence2 = []\n",
    "    lemm_sentence1 = []\n",
    "    lemm_sentence2 = []\n",
    "    sims = []\n",
    "    temp1 = []\n",
    "    temp2 = []\n",
    "    simi = []\n",
    "    final = []\n",
    "    same_sent1 = []\n",
    "    same_sent2 = []\n",
    "    #ps = PorterStemmer()\n",
    "\n",
    "    ##---------------Defining WordNet Lematizer for English Language---------------##\n",
    "    lemmatizer  =  WordNetLemmatizer()\n",
    "\n",
    "    ##---------------Tokenizing and removing the Stopwords---------------##\n",
    "\n",
    "    for words1 in word_tokenize(str1):\n",
    "        if words1 not in stop_words:\n",
    "            if words1.isalnum():\n",
    "                filtered_sentence1.append(words1)\n",
    "\n",
    "    ##---------------Lemmatizing: Root Words---------------##\n",
    "\n",
    "    for i in filtered_sentence1:\n",
    "        lemm_sentence1.append(lemmatizer.lemmatize(i))\n",
    "    #print(lemm_sentence1)\n",
    "\n",
    "    ##---------------Tokenizing and removing the Stopwords---------------##\n",
    "\n",
    "    for words2 in word_tokenize(str2):\n",
    "        if words2 not in stop_words:\n",
    "            if words2.isalnum():\n",
    "                filtered_sentence2.append(words2)\n",
    "\n",
    "    ##---------------Lemmatizing: Root Words---------------##\n",
    "\n",
    "    for i in filtered_sentence2:\n",
    "        lemm_sentence2.append(lemmatizer.lemmatize(i))\n",
    "    #print(lemm_sentence2)\n",
    "\n",
    "    ##---------------Similarity index calculation for each word---------------##\n",
    "    for word1 in lemm_sentence1:\n",
    "        simi =[]\n",
    "        for word2 in lemm_sentence2:\n",
    "            sims = []\n",
    "            #print(word1)\n",
    "            #print(word2)\n",
    "            syns1 = wordnet.synsets(word1)\n",
    "            #print(syns1)\n",
    "            #print(wordFromList1[0])\n",
    "            syns2 = wordnet.synsets(word2)\n",
    "            #print(wordFromList2[0])\n",
    "            for sense1, sense2 in product(syns1, syns2):\n",
    "                d = wordnet.wup_similarity(sense1, sense2)\n",
    "                if d != None:\n",
    "                    sims.append(d)\n",
    "            #print(sims)\n",
    "            #print(max(sims))\n",
    "            if sims != []:        \n",
    "               max_sim = max(sims)\n",
    "               #print(max_sim)\n",
    "               simi.append(max_sim)\n",
    "        print(simi)\n",
    "        if simi != []:\n",
    "            max_final = max(simi)\n",
    "            final.append(max_final)\n",
    "    #print(final)\n",
    "\n",
    "    ##---------------Final Output---------------##\n",
    "    similarity_index = numpy.mean(final)\n",
    "    similarity_index = round(similarity_index , 2)\n",
    "    print(\"Similarity index value : \", similarity_index)\n",
    "\n",
    "    if similarity_index >= 0.5:\n",
    "        print(\"Similar\")\n",
    "        return True\n",
    "    else:\n",
    "        print(\"Not Similar\")\n",
    "        return False"
   ]
  },
  {
   "cell_type": "code",
   "execution_count": null,
   "metadata": {},
   "outputs": [
    {
     "name": "stdout",
     "output_type": "stream",
     "text": [
      " * Serving Flask app \"__main__\" (lazy loading)\n",
      " * Environment: production\n",
      "   WARNING: Do not use the development server in a production environment.\n",
      "   Use a production WSGI server instead.\n",
      " * Debug mode: off\n"
     ]
    },
    {
     "name": "stderr",
     "output_type": "stream",
     "text": [
      " * Running on http://127.0.0.1:5000/ (Press CTRL+C to quit)\n",
      "C:\\Users\\hrusikesh.p\\AppData\\Local\\Continuum\\anaconda3\\lib\\site-packages\\numpy\\core\\fromnumeric.py:3373: RuntimeWarning: Mean of empty slice.\n",
      "  out=out, **kwargs)\n",
      "C:\\Users\\hrusikesh.p\\AppData\\Local\\Continuum\\anaconda3\\lib\\site-packages\\numpy\\core\\_methods.py:170: RuntimeWarning: invalid value encountered in double_scalars\n",
      "  ret = ret.dtype.type(ret / rcount)\n",
      "127.0.0.1 - - [04/Sep/2020 13:26:43] \"\u001b[37mGET /api/v1/text/match?sentence1=%22how%20are%20you%22&sentence2=%22how%20are%20you%20doing%22 HTTP/1.1\u001b[0m\" 200 -\n"
     ]
    },
    {
     "name": "stdout",
     "output_type": "stream",
     "text": [
      "ImmutableMultiDict([('sentence1', '\"how are you\"'), ('sentence2', '\"how are you doing\"')])\n",
      "[]\n",
      "nan\n",
      "Similarity index value :  nan\n",
      "Not Similar\n",
      "{'isMatch': False}\n"
     ]
    },
    {
     "name": "stderr",
     "output_type": "stream",
     "text": [
      "127.0.0.1 - - [04/Sep/2020 13:28:48] \"\u001b[37mGET /api/v1/text/match?sentence1=%22how%20are%20you%20?%22&sentence2=%22how%20are%20you%20doing%20?%22 HTTP/1.1\u001b[0m\" 200 -\n"
     ]
    },
    {
     "name": "stdout",
     "output_type": "stream",
     "text": [
      "ImmutableMultiDict([('sentence1', '\"how are you ?\"'), ('sentence2', '\"how are you doing ?\"')])\n",
      "[]\n",
      "nan\n",
      "Similarity index value :  nan\n",
      "Not Similar\n",
      "{'isMatch': False}\n",
      "ImmutableMultiDict([('sentence1', '\"how old are you ?\"'), ('sentence2', '\"what is your age?\"')])\n"
     ]
    },
    {
     "name": "stderr",
     "output_type": "stream",
     "text": [
      "127.0.0.1 - - [04/Sep/2020 13:29:30] \"\u001b[37mGET /api/v1/text/match?sentence1=%22how%20old%20are%20you%20?%22&sentence2=%22what%20is%20your%20age?%22 HTTP/1.1\u001b[0m\" 200 -\n"
     ]
    },
    {
     "name": "stdout",
     "output_type": "stream",
     "text": [
      "[0.5454545454545454]\n",
      "[0.5454545454545454]\n",
      "0.5454545454545454\n",
      "Similarity index value :  0.55\n",
      "Similar\n",
      "{'isMatch': True}\n"
     ]
    },
    {
     "name": "stderr",
     "output_type": "stream",
     "text": [
      "127.0.0.1 - - [04/Sep/2020 13:33:17] \"\u001b[37mGET /api/v1/text/match?sentence1=%22i%20love%20pizza%20?%22&sentence2=%22how%20many%20pizza%20eaten%20by%20avilina%22 HTTP/1.1\u001b[0m\" 200 -\n"
     ]
    },
    {
     "name": "stdout",
     "output_type": "stream",
     "text": [
      "ImmutableMultiDict([('sentence1', '\"i love pizza ?\"'), ('sentence2', '\"how many pizza eaten by avilina\"')])\n",
      "[0.5, 0.2857142857142857, 0.4]\n",
      "[1.0]\n",
      "[0.5, 1.0]\n",
      "0.75\n",
      "Similarity index value :  0.75\n",
      "Similar\n",
      "{'isMatch': True}\n"
     ]
    },
    {
     "name": "stderr",
     "output_type": "stream",
     "text": [
      "127.0.0.1 - - [04/Sep/2020 13:53:59] \"\u001b[37mGET /api/v1/text/match?sentence1=%22How%20old%20are%20you%20?%22&sentence2=%22What%20is%20your%20age%20?%22 HTTP/1.1\u001b[0m\" 200 -\n"
     ]
    },
    {
     "name": "stdout",
     "output_type": "stream",
     "text": [
      "ImmutableMultiDict([('sentence1', '\"How old are you ?\"'), ('sentence2', '\"What is your age ?\"')])\n",
      "[]\n",
      "[0.5454545454545454]\n",
      "[0.5454545454545454]\n",
      "0.5454545454545454\n",
      "Similarity index value :  0.55\n",
      "Similar\n",
      "{'isMatch': True}\n"
     ]
    }
   ],
   "source": [
    "# install new flask using command : pip install flask\n",
    "import flask\n",
    "from flask import request,jsonify\n",
    "import json\n",
    "app = flask.Flask(__name__)\n",
    "@app.route('/', methods=['GET'])\n",
    "def home():\n",
    "    return '''<h1>Text Similarity</h1>\n",
    "<p>Text Similarity API is used to find the similarity between two text.</p>'''\n",
    "@app.route('/api/v1/text/match', methods=['GET'])\n",
    "def textSimilarity():\n",
    "    sentence1 = \"\";\n",
    "    sentence2 = \"\";\n",
    "    print(request.args)\n",
    "    if 'sentence1' in request.args:\n",
    "        sentence1 = request.args[\"sentence1\"]\n",
    "    else:\n",
    "        return \"Error: First sentence is not present in the request\"\n",
    "    if 'sentence2' in request.args:\n",
    "        sentence2 = request.args[\"sentence2\"]\n",
    "    else:\n",
    "        return \"Error: Second sentence is not present in the request\"\n",
    "    isMatch = find_text_similarity(sentence1, sentence2)\n",
    "    data = {}\n",
    "    data[\"isMatch\"] = isMatch\n",
    "    print(data)\n",
    "    return jsonify(data)\n",
    "app.run()"
   ]
  },
  {
   "cell_type": "code",
   "execution_count": null,
   "metadata": {},
   "outputs": [],
   "source": []
  }
 ],
 "metadata": {
  "kernelspec": {
   "display_name": "Python 3",
   "language": "python",
   "name": "python3"
  },
  "language_info": {
   "codemirror_mode": {
    "name": "ipython",
    "version": 3
   },
   "file_extension": ".py",
   "mimetype": "text/x-python",
   "name": "python",
   "nbconvert_exporter": "python",
   "pygments_lexer": "ipython3",
   "version": "3.7.3"
  }
 },
 "nbformat": 4,
 "nbformat_minor": 2
}
