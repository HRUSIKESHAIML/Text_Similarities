{
 "cells": [
  {
   "cell_type": "code",
   "execution_count": 1,
   "metadata": {},
   "outputs": [],
   "source": [
    "# Program to measure the similarity between  \n",
    "# two sentences using cosine similarity.\n",
    "from nltk.corpus import stopwords \n",
    "from nltk.tokenize import word_tokenize \n",
    "  \n",
    "def find_text_similarity(X, Y):\n",
    "    # tokenization \n",
    "    X_list = word_tokenize(X)  \n",
    "    Y_list = word_tokenize(Y) \n",
    "  \n",
    "    # sw contains the list of stopwords \n",
    "    sw = stopwords.words('english')  \n",
    "    l1 =[];l2 =[] \n",
    "  \n",
    "    # remove stop words from the string \n",
    "    X_set = {w for w in X_list if not w in sw}  \n",
    "    Y_set = {w for w in Y_list if not w in sw} \n",
    "  \n",
    "    # form a set containing keywords of both strings  \n",
    "    rvector = X_set.union(Y_set)  \n",
    "    for w in rvector: \n",
    "        if w in X_set: l1.append(1) # create a vector \n",
    "        else: l1.append(0) \n",
    "        if w in Y_set: l2.append(1) \n",
    "        else: l2.append(0) \n",
    "    c = 0\n",
    "\n",
    "    # cosine formula  \n",
    "    for i in range(len(rvector)): \n",
    "        c+= l1[i]*l2[i] \n",
    "    cosine = c / float((sum(l1)*sum(l2))**0.5) \n",
    "    print(\"similarity: \", cosine)\n",
    "\n",
    "    if cosine >= 0.5:\n",
    "        print(\"Similar\")\n",
    "        return True\n",
    "    else:\n",
    "        print(\"Not Similar\")\n",
    "        return False"
   ]
  },
  {
   "cell_type": "code",
   "execution_count": 2,
   "metadata": {},
   "outputs": [
    {
     "name": "stdout",
     "output_type": "stream",
     "text": [
      " * Serving Flask app \"__main__\" (lazy loading)\n",
      " * Environment: production\n",
      "   WARNING: Do not use the development server in a production environment.\n",
      "   Use a production WSGI server instead.\n",
      " * Debug mode: off\n"
     ]
    },
    {
     "name": "stderr",
     "output_type": "stream",
     "text": [
      " * Running on http://127.0.0.1:5000/ (Press CTRL+C to quit)\n",
      "127.0.0.1 - - [04/Sep/2020 12:05:32] \"\u001b[37mGET / HTTP/1.1\u001b[0m\" 200 -\n",
      "127.0.0.1 - - [04/Sep/2020 12:10:50] \"\u001b[37mGET /api/v1/text/match?sentence1=%22How%20old%20are%20you%20?%22&sentence2=%22What%20is%20your%20age%20?%22 HTTP/1.1\u001b[0m\" 200 -\n"
     ]
    },
    {
     "name": "stdout",
     "output_type": "stream",
     "text": [
      "ImmutableMultiDict([('sentence1', '\"How old are you ?\"'), ('sentence2', '\"What is your age ?\"')])\n",
      "similarity:  0.6\n",
      "Similar\n",
      "{'isMatch': True}\n"
     ]
    },
    {
     "name": "stderr",
     "output_type": "stream",
     "text": [
      "127.0.0.1 - - [04/Sep/2020 12:11:45] \"\u001b[37mGET /api/v1/text/match?sentence1=%22How%20old%20are%20you%20?%22&sentence2=%22What%20is%20your%20age%20?%22 HTTP/1.1\u001b[0m\" 200 -\n"
     ]
    },
    {
     "name": "stdout",
     "output_type": "stream",
     "text": [
      "ImmutableMultiDict([('sentence1', '\"How old are you ?\"'), ('sentence2', '\"What is your age ?\"')])\n",
      "similarity:  0.6\n",
      "Similar\n",
      "{'isMatch': True}\n"
     ]
    },
    {
     "name": "stderr",
     "output_type": "stream",
     "text": [
      "127.0.0.1 - - [04/Sep/2020 12:20:31] \"\u001b[37mGET /api/v1/text/match?sentence1=%22How%20old%20are%20you%20?%22&sentence2=%22What%20is%20your%20age%20?%22 HTTP/1.1\u001b[0m\" 200 -\n"
     ]
    },
    {
     "name": "stdout",
     "output_type": "stream",
     "text": [
      "ImmutableMultiDict([('sentence1', '\"How old are you ?\"'), ('sentence2', '\"What is your age ?\"')])\n",
      "similarity:  0.6\n",
      "Similar\n",
      "{'isMatch': True}\n"
     ]
    },
    {
     "name": "stderr",
     "output_type": "stream",
     "text": [
      "127.0.0.1 - - [04/Sep/2020 12:35:09] \"\u001b[37mGET /api/v1/text/match?sentence1=%22How%20old%20are%20you%20?%22&sentence2=%22What%20is%20your%20age%20?%22 HTTP/1.1\u001b[0m\" 200 -\n"
     ]
    },
    {
     "name": "stdout",
     "output_type": "stream",
     "text": [
      "ImmutableMultiDict([('sentence1', '\"How old are you ?\"'), ('sentence2', '\"What is your age ?\"')])\n",
      "similarity:  0.6\n",
      "Similar\n",
      "{'isMatch': True}\n"
     ]
    },
    {
     "name": "stderr",
     "output_type": "stream",
     "text": [
      "127.0.0.1 - - [04/Sep/2020 12:40:14] \"\u001b[37mGET / HTTP/1.1\u001b[0m\" 200 -\n",
      "127.0.0.1 - - [04/Sep/2020 12:41:37] \"\u001b[37mGET /api/v1/text/match?sentence1=%22how%20are%20you%22&sentence2=%22how%20you%20doing%22 HTTP/1.1\u001b[0m\" 200 -\n"
     ]
    },
    {
     "name": "stdout",
     "output_type": "stream",
     "text": [
      "ImmutableMultiDict([('sentence1', '\"how are you\"'), ('sentence2', '\"how you doing\"')])\n",
      "similarity:  1.0\n",
      "Similar\n",
      "{'isMatch': True}\n"
     ]
    },
    {
     "name": "stderr",
     "output_type": "stream",
     "text": [
      "127.0.0.1 - - [04/Sep/2020 12:42:04] \"\u001b[37mGET /api/v1/text/match?sentence1=%22how%20are%20you%22&sentence2=%22i%20love%20football%22 HTTP/1.1\u001b[0m\" 200 -\n"
     ]
    },
    {
     "name": "stdout",
     "output_type": "stream",
     "text": [
      "ImmutableMultiDict([('sentence1', '\"how are you\"'), ('sentence2', '\"i love football\"')])\n",
      "similarity:  0.7071067811865475\n",
      "Similar\n",
      "{'isMatch': True}\n"
     ]
    },
    {
     "name": "stderr",
     "output_type": "stream",
     "text": [
      "127.0.0.1 - - [04/Sep/2020 12:42:31] \"\u001b[37mGET /api/v1/text/match?sentence1=%22how%20are%20you%22&sentence2=%22i%20love%20football%22 HTTP/1.1\u001b[0m\" 200 -\n"
     ]
    },
    {
     "name": "stdout",
     "output_type": "stream",
     "text": [
      "ImmutableMultiDict([('sentence1', '\"how are you\"'), ('sentence2', '\"i love football\"')])\n",
      "similarity:  0.7071067811865475\n",
      "Similar\n",
      "{'isMatch': True}\n"
     ]
    },
    {
     "name": "stderr",
     "output_type": "stream",
     "text": [
      "127.0.0.1 - - [04/Sep/2020 12:43:12] \"\u001b[37mGET /api/v1/text/match?sentence1=%22how%20are%20you%22&sentence2=%22i%20love%20football%22 HTTP/1.1\u001b[0m\" 200 -\n"
     ]
    },
    {
     "name": "stdout",
     "output_type": "stream",
     "text": [
      "ImmutableMultiDict([('sentence1', '\"how are you\"'), ('sentence2', '\"i love football\"')])\n",
      "similarity:  0.7071067811865475\n",
      "Similar\n",
      "{'isMatch': True}\n"
     ]
    },
    {
     "name": "stderr",
     "output_type": "stream",
     "text": [
      "127.0.0.1 - - [04/Sep/2020 13:21:45] \"\u001b[37mGET / HTTP/1.1\u001b[0m\" 200 -\n",
      "127.0.0.1 - - [04/Sep/2020 13:21:53] \"\u001b[37mGET /api/v1/text/match?sentence1=%22How%20old%20are%20you%20?%22&sentence2=%22What%20is%20your%20age%20?%22 HTTP/1.1\u001b[0m\" 200 -\n"
     ]
    },
    {
     "name": "stdout",
     "output_type": "stream",
     "text": [
      "ImmutableMultiDict([('sentence1', '\"How old are you ?\"'), ('sentence2', '\"What is your age ?\"')])\n",
      "similarity:  0.6\n",
      "Similar\n",
      "{'isMatch': True}\n"
     ]
    },
    {
     "name": "stderr",
     "output_type": "stream",
     "text": [
      "127.0.0.1 - - [04/Sep/2020 13:22:04] \"\u001b[37mGET /api/v1/text/match?sentence1=%22how%20are%20you%22&sentence2=%22i%20love%20football%22 HTTP/1.1\u001b[0m\" 200 -\n"
     ]
    },
    {
     "name": "stdout",
     "output_type": "stream",
     "text": [
      "ImmutableMultiDict([('sentence1', '\"how are you\"'), ('sentence2', '\"i love football\"')])\n",
      "similarity:  0.7071067811865475\n",
      "Similar\n",
      "{'isMatch': True}\n"
     ]
    },
    {
     "name": "stderr",
     "output_type": "stream",
     "text": [
      "127.0.0.1 - - [04/Sep/2020 13:22:07] \"\u001b[37mGET /api/v1/text/match?sentence1=%22how%20are%20you%22&sentence2=%22i%20love%20football%22 HTTP/1.1\u001b[0m\" 200 -\n"
     ]
    },
    {
     "name": "stdout",
     "output_type": "stream",
     "text": [
      "ImmutableMultiDict([('sentence1', '\"how are you\"'), ('sentence2', '\"i love football\"')])\n",
      "similarity:  0.7071067811865475\n",
      "Similar\n",
      "{'isMatch': True}\n"
     ]
    }
   ],
   "source": [
    "# install new flask using command : pip install flask\n",
    "import flask\n",
    "from flask import request,jsonify\n",
    "import json\n",
    "app = flask.Flask(__name__)\n",
    "@app.route('/', methods=['GET'])\n",
    "def home():\n",
    "    return '''<h1>Text Similarity</h1>\n",
    "<p>Text Similarity API is used to find the similarity between two text.</p>'''\n",
    "@app.route('/api/v1/text/match', methods=['GET'])\n",
    "def textSimilarity():\n",
    "    sentence1 = \"\";\n",
    "    sentence2 = \"\";\n",
    "    print(request.args)\n",
    "    if 'sentence1' in request.args:\n",
    "        sentence1 = request.args[\"sentence1\"]\n",
    "    else:\n",
    "        return \"Error: First sentence is not present in the request\"\n",
    "    if 'sentence2' in request.args:\n",
    "        sentence2 = request.args[\"sentence2\"]\n",
    "    else:\n",
    "        return \"Error: Second sentence is not present in the request\"\n",
    "    isMatch = find_text_similarity(sentence1, sentence2)\n",
    "    data = {}\n",
    "    data[\"isMatch\"] = isMatch\n",
    "    print(data)\n",
    "    return jsonify(data)\n",
    "app.run()"
   ]
  },
  {
   "cell_type": "code",
   "execution_count": null,
   "metadata": {},
   "outputs": [],
   "source": []
  }
 ],
 "metadata": {
  "kernelspec": {
   "display_name": "Python 3",
   "language": "python",
   "name": "python3"
  },
  "language_info": {
   "codemirror_mode": {
    "name": "ipython",
    "version": 3
   },
   "file_extension": ".py",
   "mimetype": "text/x-python",
   "name": "python",
   "nbconvert_exporter": "python",
   "pygments_lexer": "ipython3",
   "version": "3.7.3"
  }
 },
 "nbformat": 4,
 "nbformat_minor": 2
}
