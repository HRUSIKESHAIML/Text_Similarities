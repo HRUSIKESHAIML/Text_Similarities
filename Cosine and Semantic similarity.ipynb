{
 "cells": [
  {
   "cell_type": "markdown",
   "metadata": {},
   "source": [
    "# Cosine-Similarity"
   ]
  },
  {
   "cell_type": "code",
   "execution_count": 8,
   "metadata": {},
   "outputs": [
    {
     "name": "stdout",
     "output_type": "stream",
     "text": [
      "Enter first string: How old are you ?\n",
      "Enter second string: what is your age ?\n",
      "similarity:  0.5\n",
      "Similar\n"
     ]
    }
   ],
   "source": [
    "# Program to measure the similarity between  \n",
    "# two sentences using cosine similarity. \n",
    "from nltk.corpus import stopwords \n",
    "from nltk.tokenize import word_tokenize \n",
    "  \n",
    "X = input(\"Enter first string: \").lower() \n",
    "Y = input(\"Enter second string: \").lower() \n",
    "  \n",
    "# tokenization \n",
    "X_list = word_tokenize(X)  \n",
    "Y_list = word_tokenize(Y) \n",
    "  \n",
    "# sw contains the list of stopwords \n",
    "sw = stopwords.words('english')  \n",
    "l1 =[];l2 =[] \n",
    "  \n",
    "# remove stop words from the string \n",
    "X_set = {w for w in X_list if not w in sw}  \n",
    "Y_set = {w for w in Y_list if not w in sw} \n",
    "  \n",
    "# form a set containing keywords of both strings  \n",
    "rvector = X_set.union(Y_set)  \n",
    "for w in rvector: \n",
    "    if w in X_set: l1.append(1) # create a vector \n",
    "    else: l1.append(0) \n",
    "    if w in Y_set: l2.append(1) \n",
    "    else: l2.append(0) \n",
    "c = 0\n",
    "\n",
    "# cosine formula  \n",
    "for i in range(len(rvector)): \n",
    "        c+= l1[i]*l2[i] \n",
    "cosine = c / float((sum(l1)*sum(l2))**0.5) \n",
    "print(\"similarity: \", cosine)\n",
    "\n",
    "if cosine >= 0.5:\n",
    "    print(\"Similar\")\n",
    "else:\n",
    "    print(\"Not Similar\")"
   ]
  },
  {
   "cell_type": "markdown",
   "metadata": {},
   "source": [
    "# Semantic-Similarity"
   ]
  },
  {
   "cell_type": "code",
   "execution_count": 7,
   "metadata": {},
   "outputs": [
    {
     "name": "stdout",
     "output_type": "stream",
     "text": [
      "Enter first string: How old are you ?\n",
      "Enter second string: what is your age ?\n",
      "Similar\n"
     ]
    }
   ],
   "source": [
    "from nltk.tokenize import sent_tokenize, word_tokenize\n",
    "from nltk.corpus import stopwords,wordnet\n",
    "from nltk.stem import WordNetLemmatizer\n",
    "from itertools import product\n",
    "import numpy\n",
    "\n",
    "str1 = input(\"Enter first string: \").lower() \n",
    "str2 = input(\"Enter second string: \").lower() \n",
    "\n",
    "##---------------Defining stopwords for English Language---------------##\n",
    "stop_words = set(stopwords.words(\"english\"))\n",
    "\n",
    "##---------------Initialising Lists---------------##\n",
    "filtered_sentence1 = []\n",
    "filtered_sentence2 = []\n",
    "lemm_sentence1 = []\n",
    "lemm_sentence2 = []\n",
    "sims = []\n",
    "temp1 = []\n",
    "temp2 = []\n",
    "simi = []\n",
    "final = []\n",
    "same_sent1 = []\n",
    "same_sent2 = []\n",
    "#ps = PorterStemmer()\n",
    "\n",
    "##---------------Defining WordNet Lematizer for English Language---------------##\n",
    "lemmatizer  =  WordNetLemmatizer()\n",
    "\n",
    "##---------------Tokenizing and removing the Stopwords---------------##\n",
    "\n",
    "for words1 in word_tokenize(str1):\n",
    "    if words1 not in stop_words:\n",
    "        if words1.isalnum():\n",
    "            filtered_sentence1.append(words1)\n",
    "\n",
    "##---------------Lemmatizing: Root Words---------------##\n",
    "\n",
    "for i in filtered_sentence1:\n",
    "    lemm_sentence1.append(lemmatizer.lemmatize(i))\n",
    "#print(lemm_sentence1)\n",
    "\n",
    "##---------------Tokenizing and removing the Stopwords---------------##\n",
    "\n",
    "for words2 in word_tokenize(str2):\n",
    "    if words2 not in stop_words:\n",
    "        if words2.isalnum():\n",
    "            filtered_sentence2.append(words2)\n",
    "\n",
    "##---------------Lemmatizing: Root Words---------------##\n",
    "\n",
    "for i in filtered_sentence2:\n",
    "    lemm_sentence2.append(lemmatizer.lemmatize(i))\n",
    "#print(lemm_sentence2)\n",
    "\n",
    "##---------------Similarity index calculation for each word---------------##\n",
    "for word1 in lemm_sentence1:\n",
    "    simi =[]\n",
    "    for word2 in lemm_sentence2:\n",
    "        sims = []\n",
    "        #print(word1)\n",
    "        #print(word2)\n",
    "        syns1 = wordnet.synsets(word1)\n",
    "        #print(syns1)\n",
    "        #print(wordFromList1[0])\n",
    "        syns2 = wordnet.synsets(word2)\n",
    "        #print(wordFromList2[0])\n",
    "        for sense1, sense2 in product(syns1, syns2):\n",
    "            d = wordnet.wup_similarity(sense1, sense2)\n",
    "            if d != None:\n",
    "                sims.append(d)\n",
    "        #print(sims)\n",
    "        #print(max(sims))\n",
    "        if sims != []:        \n",
    "           max_sim = max(sims)\n",
    "           #print(max_sim)\n",
    "           simi.append(max_sim)\n",
    "             \n",
    "    if simi != []:\n",
    "        max_final = max(simi)\n",
    "        final.append(max_final)\n",
    "#print(final)\n",
    "\n",
    "##---------------Final Output---------------##\n",
    "\n",
    "similarity_index = numpy.mean(final)\n",
    "similarity_index = round(similarity_index , 2)\n",
    "#print(\"Sentence 1: \",str1)\n",
    "#print(\"Sentence 2: \",str2)\n",
    "#print(\"Similarity index value : \", similarity_index)\n",
    "\n",
    "if similarity_index >= 0.5:\n",
    "    print(\"Similar\")\n",
    "else:\n",
    "    print(\"Not Similar\")"
   ]
  },
  {
   "cell_type": "code",
   "execution_count": null,
   "metadata": {},
   "outputs": [],
   "source": []
  }
 ],
 "metadata": {
  "kernelspec": {
   "display_name": "Python 3",
   "language": "python",
   "name": "python3"
  },
  "language_info": {
   "codemirror_mode": {
    "name": "ipython",
    "version": 3
   },
   "file_extension": ".py",
   "mimetype": "text/x-python",
   "name": "python",
   "nbconvert_exporter": "python",
   "pygments_lexer": "ipython3",
   "version": "3.7.3"
  }
 },
 "nbformat": 4,
 "nbformat_minor": 2
}
